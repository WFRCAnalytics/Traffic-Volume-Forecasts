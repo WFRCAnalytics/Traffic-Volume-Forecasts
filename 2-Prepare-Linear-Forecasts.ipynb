{
 "cells": [
  {
   "cell_type": "code",
   "execution_count": null,
   "metadata": {},
   "outputs": [],
   "source": [
    "\n",
    "dfProjGroupsLinear = pd.DataFrame([\n",
    "    [\"Last 10 Years\"             , 2012, 2021,     {}],\n",
    "    [\"Last 5 Years\"              , 2017, 2021,     {}],\n",
    "    [\"Since 1981\"                , 1981, 2021,     {}],\n",
    "    [\"Last 10 Years without 2020\", 2011, 2021, {2020}],\n",
    "    [\"Last 5 Years without 2020\" , 2016, 2021, {2020}],\n",
    "    [\"Since 1981 without 2020\"   , 1981, 2021, {2020}],\n",
    "], columns=('pgName','pgYearFrom','pgYearTo','pgYearsExclude'))\n",
    "dfProjGroupsLinear"
   ]
  }
 ],
 "metadata": {
  "language_info": {
   "name": "python"
  },
  "orig_nbformat": 4
 },
 "nbformat": 4,
 "nbformat_minor": 2
}
