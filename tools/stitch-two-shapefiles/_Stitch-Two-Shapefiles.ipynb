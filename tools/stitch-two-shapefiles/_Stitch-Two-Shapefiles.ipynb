{
 "cells": [
  {
   "cell_type": "code",
   "execution_count": 1,
   "metadata": {},
   "outputs": [],
   "source": [
    "import pandas as pd\n",
    "import arcpy\n",
    "import os"
   ]
  },
  {
   "cell_type": "code",
   "execution_count": 2,
   "metadata": {},
   "outputs": [],
   "source": [
    "# Set the workspace to the directory where your shapefiles are located\n",
    "arcpy.env.workspace = os.getcwd()  # Replace with the path to your shapefiles directory\n",
    "\n",
    "# Paths to the original shapefiles\n",
    "original_non_wfrc_shp = 'input/NonWFRC/ForecastSegments.shp'\n",
    "wfrc_shp = 'input/WFRC/ForecastSegments.shp'\n",
    "\n",
    "# Path for the copied NonWFRC shapefile\n",
    "non_wfrc_shp = 'temp/NonWFRCSegments.shp'\n",
    "\n",
    "merged_shp = \"temp/MergedForecastSegments.shp\"\n",
    "\n",
    "geodatabase_path = os.path.join(arcpy.env.workspace, 'output/Forecasts.gdb')  # Path to the geodatabase\n",
    "feature_class_name = 'ForecastSegments'  # Name of the new feature class\n",
    "\n",
    "# Check if the geodatabase exists; if not, create it\n",
    "if not arcpy.Exists(geodatabase_path):\n",
    "    arcpy.CreateFileGDB_management(os.path.dirname(geodatabase_path), os.path.basename(geodatabase_path))\n"
   ]
  },
  {
   "cell_type": "code",
   "execution_count": 3,
   "metadata": {},
   "outputs": [
    {
     "name": "stdout",
     "output_type": "stream",
     "text": [
      "Process completed successfully.\n"
     ]
    }
   ],
   "source": [
    "# Create a feature layer from the original shapefile\n",
    "arcpy.MakeFeatureLayer_management(original_non_wfrc_shp, \"non_wfrc_lyr\")\n",
    "\n",
    "# Select features where SUBAREAID is not equal to 1\n",
    "arcpy.SelectLayerByAttribute_management(\"non_wfrc_lyr\", \"NEW_SELECTION\", \"SUBAREAID <> 1\")\n",
    "\n",
    "# Copy the selected features to a new shapefile\n",
    "arcpy.CopyFeatures_management(\"non_wfrc_lyr\", non_wfrc_shp)\n",
    "\n",
    "# Merge with wfrc shape\n",
    "arcpy.Merge_management([non_wfrc_shp, wfrc_shp], merged_shp)\n",
    "\n",
    "# Export the merged shapefile to the geodatabase as a feature class\n",
    "feature_class_path = os.path.join(geodatabase_path, feature_class_name)\n",
    "arcpy.FeatureClassToFeatureClass_conversion(merged_shp, geodatabase_path, feature_class_name)\n",
    "\n",
    "print(\"Process completed successfully.\")"
   ]
  }
 ],
 "metadata": {
  "kernelspec": {
   "display_name": "Python 3",
   "language": "python",
   "name": "python3"
  },
  "language_info": {
   "codemirror_mode": {
    "name": "ipython",
    "version": 3
   },
   "file_extension": ".py",
   "mimetype": "text/x-python",
   "name": "python",
   "nbconvert_exporter": "python",
   "pygments_lexer": "ipython3",
   "version": "3.9.11"
  }
 },
 "nbformat": 4,
 "nbformat_minor": 2
}
