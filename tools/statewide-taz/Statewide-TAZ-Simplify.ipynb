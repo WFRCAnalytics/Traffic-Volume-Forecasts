{
 "cells": [
  {
   "cell_type": "code",
   "execution_count": 2,
   "metadata": {},
   "outputs": [],
   "source": [
    "tolerance = 5 #meters"
   ]
  },
  {
   "cell_type": "code",
   "execution_count": 3,
   "metadata": {},
   "outputs": [
    {
     "name": "stdout",
     "output_type": "stream",
     "text": [
      "reading file...\n",
      "file read\n",
      "writing file...\n",
      "file written\n"
     ]
    }
   ],
   "source": [
    "import geopandas as gpd\n",
    "\n",
    "print(\"reading file...\")\n",
    "\n",
    "# Step 1: Load the shapefile\n",
    "file_path = 'input/USTM_TAZ_2021_09_22.shp'\n",
    "gdf = gpd.read_file(file_path)\n",
    "\n",
    "print(\"file read\")\n",
    "\n",
    "# Step 2: Simplify the polygons with increased tolerance\n",
    "gdf['geometry'] = gdf['geometry'].simplify(tolerance=tolerance, preserve_topology=True)  # Adjusted for more simplification\n",
    "\n",
    "# Step 3: Select specific fields including 'geometry'\n",
    "fields = ['CO_TAZID', 'TAZID', 'DEVACRES', 'CO_FIPS', 'CO_NAME', 'CITY_NAME', 'SUBAREAID', 'geometry']\n",
    "gdf_selected = gdf[fields]\n",
    "\n",
    "gdf_selected = gdf_selected.rename(columns={'CITY_NAME':'CityArea'})\n",
    "\n",
    "print(\"writing file...\")\n",
    "\n",
    "# Step 4: Export the simplified shapefile\n",
    "output_path = 'output/simplified_USTM_TAZ_2021_09_22.shp'\n",
    "gdf_selected.to_file(output_path)\n",
    "\n",
    "print(\"file written\")"
   ]
  }
 ],
 "metadata": {
  "kernelspec": {
   "display_name": "base",
   "language": "python",
   "name": "python3"
  },
  "language_info": {
   "codemirror_mode": {
    "name": "ipython",
    "version": 3
   },
   "file_extension": ".py",
   "mimetype": "text/x-python",
   "name": "python",
   "nbconvert_exporter": "python",
   "pygments_lexer": "ipython3",
   "version": "3.9.13"
  }
 },
 "nbformat": 4,
 "nbformat_minor": 2
}
