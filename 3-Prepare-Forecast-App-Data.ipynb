{
 "cells": [
  {
   "cell_type": "code",
   "execution_count": null,
   "metadata": {},
   "outputs": [],
   "source": []
  },
  {
   "cell_type": "code",
   "execution_count": null,
   "metadata": {},
   "outputs": [],
   "source": [
    "# create JSON with the following fields\n",
    "# SEGID, CAT, VOL  --- CAT values: OBS, TDMv832, TDMv832, TDMv900, ADJv831, ADJv832, LINv832, LINv832, LINv900, LIN\n",
    "\n",
    "\n",
    "# create feature class with SEGID as ID and the following columns\n",
    "# BY2019,TDM2019,TDM2023,TDM2028,TDM2032,TDM2042,TDM2050,ADJ"
   ]
  },
  {
   "cell_type": "code",
   "execution_count": 7,
   "metadata": {},
   "outputs": [],
   "source": [
    "# convert segment shapefile to geojson\n",
    "\n",
    "import geopandas as gpd\n",
    "import pyproj\n",
    "\n",
    "# Replace 'path/to/your/shapefile.shp' with the actual path to your shapefile\n",
    "shapefile_path = 'A:/1 - TDM/3 - Model Dev/1 - WF/1 - Official Release/v9x/v9.0/WF TDM v9.0 - official/1_Inputs/6_Segment/Segments_WF - 2023-08-01.shp'\n",
    "gdf = gpd.read_file(shapefile_path)\n",
    "\n",
    "gdf=gdf[['SEGID','geometry']]\n",
    "\n",
    "# Define the input and output coordinate reference systems (CRS)\n",
    "# UTM Zone 12N (EPSG:32612) is the input CRS\n",
    "input_crs = 'EPSG:32612'\n",
    "\n",
    "# WGS 84 (EPSG:4326) is the output CRS\n",
    "output_crs = 'EPSG:4326'\n",
    "\n",
    "# Perform the coordinate transformation\n",
    "gdf = gdf.to_crs(output_crs)\n",
    "\n",
    "# Replace 'path/to/your/output_geojson.geojson' with the desired path for the output GeoJSON file\n",
    "output_geojson_path = 'E:/GitHub/Traffic-Volume-Forecasts/_site-localhost-esri/data/segments.geojson'\n",
    "gdf.to_file(output_geojson_path, driver='GeoJSON')"
   ]
  }
 ],
 "metadata": {
  "kernelspec": {
   "display_name": "base",
   "language": "python",
   "name": "python3"
  },
  "language_info": {
   "codemirror_mode": {
    "name": "ipython",
    "version": 3
   },
   "file_extension": ".py",
   "mimetype": "text/x-python",
   "name": "python",
   "nbconvert_exporter": "python",
   "pygments_lexer": "ipython3",
   "version": "3.9.13"
  },
  "orig_nbformat": 4
 },
 "nbformat": 4,
 "nbformat_minor": 2
}
